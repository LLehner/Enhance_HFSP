{
 "cells": [
  {
   "cell_type": "code",
   "execution_count": 1,
   "metadata": {},
   "outputs": [],
   "source": [
    "import pandas as pd\n",
    "import numpy as np\n",
    "import seaborn as sns\n",
    "import matplotlib.pyplot as plt\n",
    "import random"
   ]
  },
  {
   "cell_type": "markdown",
   "metadata": {},
   "source": [
    "## Load data"
   ]
  },
  {
   "cell_type": "code",
   "execution_count": 2,
   "metadata": {},
   "outputs": [],
   "source": [
    "dataset = pd.read_excel(\"testing/hfsp_supplement/Mahlich.335.sup.data.1.xlsx\", sheet_name=\"Swiss-Prot 2017\")\n",
    "alignment = pd.read_csv(\"testing/foldseek/alignmentOutput\", sep=\"\\t\")"
   ]
  },
  {
   "cell_type": "code",
   "execution_count": 3,
   "metadata": {},
   "outputs": [],
   "source": [
    "split_ec = dataset['ec_number'].str.split('.', expand=True)\n",
    "dataset['ec_1'] = split_ec[0]\n",
    "dataset['ec_2'] = split_ec[0] + '.' + split_ec[1]\n",
    "dataset['ec_3'] = split_ec[0] + '.' + split_ec[1] + '.' + split_ec[2]\n",
    "dataset['ec_4'] = split_ec[0] + '.' + split_ec[1] + '.' + split_ec[2] + '.' + split_ec[3]"
   ]
  },
  {
   "cell_type": "code",
   "execution_count": 4,
   "metadata": {},
   "outputs": [
    {
     "data": {
      "text/html": [
       "<div>\n",
       "<style scoped>\n",
       "    .dataframe tbody tr th:only-of-type {\n",
       "        vertical-align: middle;\n",
       "    }\n",
       "\n",
       "    .dataframe tbody tr th {\n",
       "        vertical-align: top;\n",
       "    }\n",
       "\n",
       "    .dataframe thead th {\n",
       "        text-align: right;\n",
       "    }\n",
       "</style>\n",
       "<table border=\"1\" class=\"dataframe\">\n",
       "  <thead>\n",
       "    <tr style=\"text-align: right;\">\n",
       "      <th></th>\n",
       "      <th>id</th>\n",
       "      <th>ec_number</th>\n",
       "      <th>domain</th>\n",
       "      <th>ec_1</th>\n",
       "      <th>ec_2</th>\n",
       "      <th>ec_3</th>\n",
       "      <th>ec_4</th>\n",
       "    </tr>\n",
       "  </thead>\n",
       "  <tbody>\n",
       "    <tr>\n",
       "      <th>0</th>\n",
       "      <td>P00533</td>\n",
       "      <td>2.7.10.1</td>\n",
       "      <td>Eukarya</td>\n",
       "      <td>2</td>\n",
       "      <td>2.7</td>\n",
       "      <td>2.7.10</td>\n",
       "      <td>2.7.10.1</td>\n",
       "    </tr>\n",
       "    <tr>\n",
       "      <th>1</th>\n",
       "      <td>Q8WZ42</td>\n",
       "      <td>2.7.11.1</td>\n",
       "      <td>Eukarya</td>\n",
       "      <td>2</td>\n",
       "      <td>2.7</td>\n",
       "      <td>2.7.11</td>\n",
       "      <td>2.7.11.1</td>\n",
       "    </tr>\n",
       "    <tr>\n",
       "      <th>2</th>\n",
       "      <td>P31749</td>\n",
       "      <td>2.7.11.1</td>\n",
       "      <td>Eukarya</td>\n",
       "      <td>2</td>\n",
       "      <td>2.7</td>\n",
       "      <td>2.7.11</td>\n",
       "      <td>2.7.11.1</td>\n",
       "    </tr>\n",
       "    <tr>\n",
       "      <th>3</th>\n",
       "      <td>P21802</td>\n",
       "      <td>2.7.10.1</td>\n",
       "      <td>Eukarya</td>\n",
       "      <td>2</td>\n",
       "      <td>2.7</td>\n",
       "      <td>2.7.10</td>\n",
       "      <td>2.7.10.1</td>\n",
       "    </tr>\n",
       "    <tr>\n",
       "      <th>4</th>\n",
       "      <td>P12931</td>\n",
       "      <td>2.7.10.2</td>\n",
       "      <td>Eukarya</td>\n",
       "      <td>2</td>\n",
       "      <td>2.7</td>\n",
       "      <td>2.7.10</td>\n",
       "      <td>2.7.10.2</td>\n",
       "    </tr>\n",
       "    <tr>\n",
       "      <th>...</th>\n",
       "      <td>...</td>\n",
       "      <td>...</td>\n",
       "      <td>...</td>\n",
       "      <td>...</td>\n",
       "      <td>...</td>\n",
       "      <td>...</td>\n",
       "      <td>...</td>\n",
       "    </tr>\n",
       "    <tr>\n",
       "      <th>7017</th>\n",
       "      <td>P48775</td>\n",
       "      <td>1.13.11.11</td>\n",
       "      <td>Eukarya</td>\n",
       "      <td>1</td>\n",
       "      <td>1.13</td>\n",
       "      <td>1.13.11</td>\n",
       "      <td>1.13.11.11</td>\n",
       "    </tr>\n",
       "    <tr>\n",
       "      <th>7018</th>\n",
       "      <td>P77806</td>\n",
       "      <td>2.6.1.88</td>\n",
       "      <td>Bacteria</td>\n",
       "      <td>2</td>\n",
       "      <td>2.6</td>\n",
       "      <td>2.6.1</td>\n",
       "      <td>2.6.1.88</td>\n",
       "    </tr>\n",
       "    <tr>\n",
       "      <th>7019</th>\n",
       "      <td>P14680</td>\n",
       "      <td>2.7.12.1</td>\n",
       "      <td>Eukarya</td>\n",
       "      <td>2</td>\n",
       "      <td>2.7</td>\n",
       "      <td>2.7.12</td>\n",
       "      <td>2.7.12.1</td>\n",
       "    </tr>\n",
       "    <tr>\n",
       "      <th>7020</th>\n",
       "      <td>P36217</td>\n",
       "      <td>3.2.1.8</td>\n",
       "      <td>Eukarya</td>\n",
       "      <td>3</td>\n",
       "      <td>3.2</td>\n",
       "      <td>3.2.1</td>\n",
       "      <td>3.2.1.8</td>\n",
       "    </tr>\n",
       "    <tr>\n",
       "      <th>7021</th>\n",
       "      <td>Q8GJ44</td>\n",
       "      <td>3.2.1.8</td>\n",
       "      <td>Bacteria</td>\n",
       "      <td>3</td>\n",
       "      <td>3.2</td>\n",
       "      <td>3.2.1</td>\n",
       "      <td>3.2.1.8</td>\n",
       "    </tr>\n",
       "  </tbody>\n",
       "</table>\n",
       "<p>7022 rows × 7 columns</p>\n",
       "</div>"
      ],
      "text/plain": [
       "          id   ec_number    domain ec_1  ec_2     ec_3        ec_4\n",
       "0     P00533    2.7.10.1   Eukarya    2   2.7   2.7.10    2.7.10.1\n",
       "1     Q8WZ42    2.7.11.1   Eukarya    2   2.7   2.7.11    2.7.11.1\n",
       "2     P31749    2.7.11.1   Eukarya    2   2.7   2.7.11    2.7.11.1\n",
       "3     P21802    2.7.10.1   Eukarya    2   2.7   2.7.10    2.7.10.1\n",
       "4     P12931    2.7.10.2   Eukarya    2   2.7   2.7.10    2.7.10.2\n",
       "...      ...         ...       ...  ...   ...      ...         ...\n",
       "7017  P48775  1.13.11.11   Eukarya    1  1.13  1.13.11  1.13.11.11\n",
       "7018  P77806    2.6.1.88  Bacteria    2   2.6    2.6.1    2.6.1.88\n",
       "7019  P14680    2.7.12.1   Eukarya    2   2.7   2.7.12    2.7.12.1\n",
       "7020  P36217     3.2.1.8   Eukarya    3   3.2    3.2.1     3.2.1.8\n",
       "7021  Q8GJ44     3.2.1.8  Bacteria    3   3.2    3.2.1     3.2.1.8\n",
       "\n",
       "[7022 rows x 7 columns]"
      ]
     },
     "execution_count": 4,
     "metadata": {},
     "output_type": "execute_result"
    }
   ],
   "source": [
    "dataset"
   ]
  },
  {
   "cell_type": "code",
   "execution_count": 5,
   "metadata": {},
   "outputs": [
    {
     "data": {
      "text/html": [
       "<div>\n",
       "<style scoped>\n",
       "    .dataframe tbody tr th:only-of-type {\n",
       "        vertical-align: middle;\n",
       "    }\n",
       "\n",
       "    .dataframe tbody tr th {\n",
       "        vertical-align: top;\n",
       "    }\n",
       "\n",
       "    .dataframe thead th {\n",
       "        text-align: right;\n",
       "    }\n",
       "</style>\n",
       "<table border=\"1\" class=\"dataframe\">\n",
       "  <thead>\n",
       "    <tr style=\"text-align: right;\">\n",
       "      <th></th>\n",
       "      <th>query</th>\n",
       "      <th>target</th>\n",
       "      <th>evalue</th>\n",
       "      <th>bits</th>\n",
       "      <th>pident</th>\n",
       "      <th>fident</th>\n",
       "      <th>nident</th>\n",
       "      <th>alnlen</th>\n",
       "      <th>mismatch</th>\n",
       "      <th>gapopen</th>\n",
       "      <th>...</th>\n",
       "      <th>tend</th>\n",
       "      <th>tlen</th>\n",
       "      <th>lddt</th>\n",
       "      <th>rmsd</th>\n",
       "      <th>prob</th>\n",
       "      <th>qtmscore</th>\n",
       "      <th>ttmscore</th>\n",
       "      <th>alntmscore</th>\n",
       "      <th>qcov</th>\n",
       "      <th>tcov</th>\n",
       "    </tr>\n",
       "  </thead>\n",
       "  <tbody>\n",
       "    <tr>\n",
       "      <th>0</th>\n",
       "      <td>P22734</td>\n",
       "      <td>P22734</td>\n",
       "      <td>5.248000e-58</td>\n",
       "      <td>2215</td>\n",
       "      <td>100.0</td>\n",
       "      <td>1.000</td>\n",
       "      <td>264</td>\n",
       "      <td>264</td>\n",
       "      <td>0</td>\n",
       "      <td>0</td>\n",
       "      <td>...</td>\n",
       "      <td>264</td>\n",
       "      <td>264</td>\n",
       "      <td>1.0000</td>\n",
       "      <td>0.00341</td>\n",
       "      <td>1.0</td>\n",
       "      <td>1.00000</td>\n",
       "      <td>1.00000</td>\n",
       "      <td>1.00000</td>\n",
       "      <td>1.000</td>\n",
       "      <td>1.000</td>\n",
       "    </tr>\n",
       "    <tr>\n",
       "      <th>1</th>\n",
       "      <td>P22734</td>\n",
       "      <td>P21964</td>\n",
       "      <td>1.457000e-47</td>\n",
       "      <td>1766</td>\n",
       "      <td>77.9</td>\n",
       "      <td>0.779</td>\n",
       "      <td>205</td>\n",
       "      <td>263</td>\n",
       "      <td>57</td>\n",
       "      <td>1</td>\n",
       "      <td>...</td>\n",
       "      <td>271</td>\n",
       "      <td>271</td>\n",
       "      <td>0.9638</td>\n",
       "      <td>1.21400</td>\n",
       "      <td>1.0</td>\n",
       "      <td>0.96870</td>\n",
       "      <td>0.94400</td>\n",
       "      <td>0.94400</td>\n",
       "      <td>0.992</td>\n",
       "      <td>0.970</td>\n",
       "    </tr>\n",
       "    <tr>\n",
       "      <th>2</th>\n",
       "      <td>P22734</td>\n",
       "      <td>Q40313</td>\n",
       "      <td>2.529000e-12</td>\n",
       "      <td>338</td>\n",
       "      <td>18.9</td>\n",
       "      <td>0.189</td>\n",
       "      <td>40</td>\n",
       "      <td>211</td>\n",
       "      <td>140</td>\n",
       "      <td>7</td>\n",
       "      <td>...</td>\n",
       "      <td>247</td>\n",
       "      <td>247</td>\n",
       "      <td>0.6119</td>\n",
       "      <td>3.83300</td>\n",
       "      <td>1.0</td>\n",
       "      <td>0.58650</td>\n",
       "      <td>0.62410</td>\n",
       "      <td>0.62410</td>\n",
       "      <td>0.716</td>\n",
       "      <td>0.818</td>\n",
       "    </tr>\n",
       "    <tr>\n",
       "      <th>3</th>\n",
       "      <td>P22734</td>\n",
       "      <td>O49499</td>\n",
       "      <td>1.977000e-12</td>\n",
       "      <td>296</td>\n",
       "      <td>16.9</td>\n",
       "      <td>0.169</td>\n",
       "      <td>43</td>\n",
       "      <td>253</td>\n",
       "      <td>154</td>\n",
       "      <td>9</td>\n",
       "      <td>...</td>\n",
       "      <td>259</td>\n",
       "      <td>259</td>\n",
       "      <td>0.5781</td>\n",
       "      <td>8.66400</td>\n",
       "      <td>1.0</td>\n",
       "      <td>0.55580</td>\n",
       "      <td>0.56580</td>\n",
       "      <td>0.56580</td>\n",
       "      <td>0.875</td>\n",
       "      <td>0.846</td>\n",
       "    </tr>\n",
       "    <tr>\n",
       "      <th>4</th>\n",
       "      <td>P22734</td>\n",
       "      <td>Q8GBB2</td>\n",
       "      <td>2.323000e-08</td>\n",
       "      <td>218</td>\n",
       "      <td>14.8</td>\n",
       "      <td>0.148</td>\n",
       "      <td>28</td>\n",
       "      <td>189</td>\n",
       "      <td>127</td>\n",
       "      <td>10</td>\n",
       "      <td>...</td>\n",
       "      <td>255</td>\n",
       "      <td>255</td>\n",
       "      <td>0.5421</td>\n",
       "      <td>4.00500</td>\n",
       "      <td>1.0</td>\n",
       "      <td>0.49710</td>\n",
       "      <td>0.51300</td>\n",
       "      <td>0.51300</td>\n",
       "      <td>0.644</td>\n",
       "      <td>0.682</td>\n",
       "    </tr>\n",
       "    <tr>\n",
       "      <th>...</th>\n",
       "      <td>...</td>\n",
       "      <td>...</td>\n",
       "      <td>...</td>\n",
       "      <td>...</td>\n",
       "      <td>...</td>\n",
       "      <td>...</td>\n",
       "      <td>...</td>\n",
       "      <td>...</td>\n",
       "      <td>...</td>\n",
       "      <td>...</td>\n",
       "      <td>...</td>\n",
       "      <td>...</td>\n",
       "      <td>...</td>\n",
       "      <td>...</td>\n",
       "      <td>...</td>\n",
       "      <td>...</td>\n",
       "      <td>...</td>\n",
       "      <td>...</td>\n",
       "      <td>...</td>\n",
       "      <td>...</td>\n",
       "      <td>...</td>\n",
       "    </tr>\n",
       "    <tr>\n",
       "      <th>8769677</th>\n",
       "      <td>Q9LFP0</td>\n",
       "      <td>Q99952</td>\n",
       "      <td>7.941000e+00</td>\n",
       "      <td>5</td>\n",
       "      <td>9.5</td>\n",
       "      <td>0.095</td>\n",
       "      <td>19</td>\n",
       "      <td>199</td>\n",
       "      <td>89</td>\n",
       "      <td>18</td>\n",
       "      <td>...</td>\n",
       "      <td>230</td>\n",
       "      <td>460</td>\n",
       "      <td>0.2136</td>\n",
       "      <td>15.59000</td>\n",
       "      <td>0.0</td>\n",
       "      <td>0.09422</td>\n",
       "      <td>0.07203</td>\n",
       "      <td>0.07203</td>\n",
       "      <td>0.864</td>\n",
       "      <td>0.309</td>\n",
       "    </tr>\n",
       "    <tr>\n",
       "      <th>8769678</th>\n",
       "      <td>Q9LFP0</td>\n",
       "      <td>Q5SLL5</td>\n",
       "      <td>8.450000e+00</td>\n",
       "      <td>5</td>\n",
       "      <td>5.3</td>\n",
       "      <td>0.053</td>\n",
       "      <td>8</td>\n",
       "      <td>150</td>\n",
       "      <td>63</td>\n",
       "      <td>8</td>\n",
       "      <td>...</td>\n",
       "      <td>158</td>\n",
       "      <td>529</td>\n",
       "      <td>0.1569</td>\n",
       "      <td>13.89000</td>\n",
       "      <td>0.0</td>\n",
       "      <td>0.09149</td>\n",
       "      <td>0.04817</td>\n",
       "      <td>0.04817</td>\n",
       "      <td>0.435</td>\n",
       "      <td>0.261</td>\n",
       "    </tr>\n",
       "    <tr>\n",
       "      <th>8769679</th>\n",
       "      <td>Q9LFP0</td>\n",
       "      <td>Q60048</td>\n",
       "      <td>8.991000e+00</td>\n",
       "      <td>5</td>\n",
       "      <td>8.7</td>\n",
       "      <td>0.087</td>\n",
       "      <td>20</td>\n",
       "      <td>228</td>\n",
       "      <td>82</td>\n",
       "      <td>13</td>\n",
       "      <td>...</td>\n",
       "      <td>604</td>\n",
       "      <td>711</td>\n",
       "      <td>0.1988</td>\n",
       "      <td>17.95000</td>\n",
       "      <td>0.0</td>\n",
       "      <td>0.11220</td>\n",
       "      <td>0.04721</td>\n",
       "      <td>0.04721</td>\n",
       "      <td>0.576</td>\n",
       "      <td>0.309</td>\n",
       "    </tr>\n",
       "    <tr>\n",
       "      <th>8769680</th>\n",
       "      <td>Q9LFP0</td>\n",
       "      <td>P36148</td>\n",
       "      <td>7.941000e+00</td>\n",
       "      <td>5</td>\n",
       "      <td>7.2</td>\n",
       "      <td>0.072</td>\n",
       "      <td>9</td>\n",
       "      <td>124</td>\n",
       "      <td>46</td>\n",
       "      <td>7</td>\n",
       "      <td>...</td>\n",
       "      <td>158</td>\n",
       "      <td>743</td>\n",
       "      <td>0.1673</td>\n",
       "      <td>12.46000</td>\n",
       "      <td>0.0</td>\n",
       "      <td>0.09464</td>\n",
       "      <td>0.03557</td>\n",
       "      <td>0.03557</td>\n",
       "      <td>0.314</td>\n",
       "      <td>0.160</td>\n",
       "    </tr>\n",
       "    <tr>\n",
       "      <th>8769681</th>\n",
       "      <td>Q9LFP0</td>\n",
       "      <td>Q3T906</td>\n",
       "      <td>8.991000e+00</td>\n",
       "      <td>5</td>\n",
       "      <td>8.5</td>\n",
       "      <td>0.085</td>\n",
       "      <td>8</td>\n",
       "      <td>94</td>\n",
       "      <td>53</td>\n",
       "      <td>8</td>\n",
       "      <td>...</td>\n",
       "      <td>605</td>\n",
       "      <td>1256</td>\n",
       "      <td>0.1932</td>\n",
       "      <td>13.45000</td>\n",
       "      <td>0.0</td>\n",
       "      <td>0.08414</td>\n",
       "      <td>0.02276</td>\n",
       "      <td>0.02276</td>\n",
       "      <td>0.398</td>\n",
       "      <td>0.063</td>\n",
       "    </tr>\n",
       "  </tbody>\n",
       "</table>\n",
       "<p>8769682 rows × 24 columns</p>\n",
       "</div>"
      ],
      "text/plain": [
       "          query  target        evalue  bits  pident  fident  nident  alnlen  \\\n",
       "0        P22734  P22734  5.248000e-58  2215   100.0   1.000     264     264   \n",
       "1        P22734  P21964  1.457000e-47  1766    77.9   0.779     205     263   \n",
       "2        P22734  Q40313  2.529000e-12   338    18.9   0.189      40     211   \n",
       "3        P22734  O49499  1.977000e-12   296    16.9   0.169      43     253   \n",
       "4        P22734  Q8GBB2  2.323000e-08   218    14.8   0.148      28     189   \n",
       "...         ...     ...           ...   ...     ...     ...     ...     ...   \n",
       "8769677  Q9LFP0  Q99952  7.941000e+00     5     9.5   0.095      19     199   \n",
       "8769678  Q9LFP0  Q5SLL5  8.450000e+00     5     5.3   0.053       8     150   \n",
       "8769679  Q9LFP0  Q60048  8.991000e+00     5     8.7   0.087      20     228   \n",
       "8769680  Q9LFP0  P36148  7.941000e+00     5     7.2   0.072       9     124   \n",
       "8769681  Q9LFP0  Q3T906  8.991000e+00     5     8.5   0.085       8      94   \n",
       "\n",
       "         mismatch  gapopen  ...  tend  tlen    lddt      rmsd  prob  qtmscore  \\\n",
       "0               0        0  ...   264   264  1.0000   0.00341   1.0   1.00000   \n",
       "1              57        1  ...   271   271  0.9638   1.21400   1.0   0.96870   \n",
       "2             140        7  ...   247   247  0.6119   3.83300   1.0   0.58650   \n",
       "3             154        9  ...   259   259  0.5781   8.66400   1.0   0.55580   \n",
       "4             127       10  ...   255   255  0.5421   4.00500   1.0   0.49710   \n",
       "...           ...      ...  ...   ...   ...     ...       ...   ...       ...   \n",
       "8769677        89       18  ...   230   460  0.2136  15.59000   0.0   0.09422   \n",
       "8769678        63        8  ...   158   529  0.1569  13.89000   0.0   0.09149   \n",
       "8769679        82       13  ...   604   711  0.1988  17.95000   0.0   0.11220   \n",
       "8769680        46        7  ...   158   743  0.1673  12.46000   0.0   0.09464   \n",
       "8769681        53        8  ...   605  1256  0.1932  13.45000   0.0   0.08414   \n",
       "\n",
       "         ttmscore  alntmscore   qcov   tcov  \n",
       "0         1.00000     1.00000  1.000  1.000  \n",
       "1         0.94400     0.94400  0.992  0.970  \n",
       "2         0.62410     0.62410  0.716  0.818  \n",
       "3         0.56580     0.56580  0.875  0.846  \n",
       "4         0.51300     0.51300  0.644  0.682  \n",
       "...           ...         ...    ...    ...  \n",
       "8769677   0.07203     0.07203  0.864  0.309  \n",
       "8769678   0.04817     0.04817  0.435  0.261  \n",
       "8769679   0.04721     0.04721  0.576  0.309  \n",
       "8769680   0.03557     0.03557  0.314  0.160  \n",
       "8769681   0.02276     0.02276  0.398  0.063  \n",
       "\n",
       "[8769682 rows x 24 columns]"
      ]
     },
     "execution_count": 5,
     "metadata": {},
     "output_type": "execute_result"
    }
   ],
   "source": [
    "alignment"
   ]
  },
  {
   "cell_type": "markdown",
   "metadata": {},
   "source": [
    "## Plot EC number distribution"
   ]
  },
  {
   "cell_type": "code",
   "execution_count": 6,
   "metadata": {},
   "outputs": [
    {
     "data": {
      "text/plain": [
       "<Axes: xlabel='ec_1', ylabel='count'>"
      ]
     },
     "execution_count": 6,
     "metadata": {},
     "output_type": "execute_result"
    },
    {
     "data": {
      "image/png": "[encoded data removed]",
      "text/plain": [
       "<Figure size 640x480 with 1 Axes>"
      ]
     },
     "metadata": {},
     "output_type": "display_data"
    }
   ],
   "source": [
    "sns.countplot(data=dataset, x=\"ec_1\", order=dataset.ec_1.value_counts().index)"
   ]
  },
  {
   "cell_type": "code",
   "execution_count": 7,
   "metadata": {},
   "outputs": [
    {
     "data": {
      "text/plain": [
       "<Axes: xlabel='ec_2', ylabel='count'>"
      ]
     },
     "execution_count": 7,
     "metadata": {},
     "output_type": "execute_result"
    },
    {
     "data": {
      "image/png": "[encoded data removed]",
      "text/plain": [
       "<Figure size 640x480 with 1 Axes>"
      ]
     },
     "metadata": {},
     "output_type": "display_data"
    }
   ],
   "source": [
    "\n",
    "plt.xticks(rotation=90, fontsize=5)\n",
    "sns.countplot(data=dataset, x=\"ec_2\")"
   ]
  },
  {
   "cell_type": "markdown",
   "metadata": {},
   "source": [
    "## Plot sequence length distribution"
   ]
  },
  {
   "cell_type": "code",
   "execution_count": 8,
   "metadata": {},
   "outputs": [],
   "source": [
    "uniq_lenghts = alignment[[\"query\", \"qlen\"]].drop_duplicates()[\"qlen\"]"
   ]
  },
  {
   "cell_type": "code",
   "execution_count": 9,
   "metadata": {},
   "outputs": [
    {
     "data": {
      "text/plain": [
       "<Axes: xlabel='qlen', ylabel='Count'>"
      ]
     },
     "execution_count": 9,
     "metadata": {},
     "output_type": "execute_result"
    },
    {
     "data": {
      "image/png": "[encoded data removed]",
      "text/plain": [
       "<Figure size 640x480 with 1 Axes>"
      ]
     },
     "metadata": {},
     "output_type": "display_data"
    }
   ],
   "source": [
    "sns.histplot(uniq_lenghts)"
   ]
  },
  {
   "cell_type": "markdown",
   "metadata": {},
   "source": [
    "## Plot LDDT distribution"
   ]
  },
  {
   "cell_type": "code",
   "execution_count": 10,
   "metadata": {},
   "outputs": [
    {
     "data": {
      "text/plain": [
       "<Axes: xlabel='lddt', ylabel='Count'>"
      ]
     },
     "execution_count": 10,
     "metadata": {},
     "output_type": "execute_result"
    },
    {
     "data": {
      "image/png": "[encoded data removed]",
      "text/plain": [
       "<Figure size 640x480 with 1 Axes>"
      ]
     },
     "metadata": {},
     "output_type": "display_data"
    }
   ],
   "source": [
    "sns.histplot(alignment[\"lddt\"], bins=300)"
   ]
  },
  {
   "cell_type": "code",
   "execution_count": 11,
   "metadata": {},
   "outputs": [
    {
     "data": {
      "text/plain": [
       "<Axes: xlabel='evalue', ylabel='Count'>"
      ]
     },
     "execution_count": 11,
     "metadata": {},
     "output_type": "execute_result"
    },
    {
     "data": {
      "image/png": "[encoded data removed]",
      "text/plain": [
       "<Figure size 640x480 with 1 Axes>"
      ]
     },
     "metadata": {},
     "output_type": "display_data"
    }
   ],
   "source": [
    "sns.histplot(alignment[\"evalue\"])"
   ]
  },
  {
   "cell_type": "code",
   "execution_count": 12,
   "metadata": {},
   "outputs": [
    {
     "data": {
      "image/png": "[encoded data removed]",
      "text/plain": [
       "<Figure size 640x480 with 1 Axes>"
      ]
     },
     "metadata": {},
     "output_type": "display_data"
    }
   ],
   "source": [
    "ax = sns.histplot(np.log(alignment[\"bits\"]), bins=60)"
   ]
  },
  {
   "cell_type": "code",
   "execution_count": 13,
   "metadata": {},
   "outputs": [
    {
     "data": {
      "text/plain": [
       "<Axes: xlabel='alntmscore', ylabel='Count'>"
      ]
     },
     "execution_count": 13,
     "metadata": {},
     "output_type": "execute_result"
    },
    {
     "data": {
      "image/png": "[encoded data removed]",
      "text/plain": [
       "<Figure size 640x480 with 1 Axes>"
      ]
     },
     "metadata": {},
     "output_type": "display_data"
    }
   ],
   "source": [
    "sns.histplot(alignment[\"alntmscore\"], bins=100)"
   ]
  }
 ],
 "metadata": {
  "kernelspec": {
   "display_name": "Python 3",
   "language": "python",
   "name": "python3"
  },
  "language_info": {
   "codemirror_mode": {
    "name": "ipython",
    "version": 3
   },
   "file_extension": ".py",
   "mimetype": "text/x-python",
   "name": "python",
   "nbconvert_exporter": "python",
   "pygments_lexer": "ipython3",
   "version": "3.11.9"
  }
 },
 "nbformat": 4,
 "nbformat_minor": 2
}
